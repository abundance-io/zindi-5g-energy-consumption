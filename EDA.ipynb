{
 "cells": [
  {
   "cell_type": "code",
   "execution_count": 3,
   "metadata": {},
   "outputs": [],
   "source": [
    "\n",
    "import pandas as pd"
   ]
  },
  {
   "cell_type": "code",
   "execution_count": 7,
   "metadata": {},
   "outputs": [
    {
     "name": "stderr",
     "output_type": "stream",
     "text": [
      "/tmp/ipykernel_9856/705852802.py:3: DtypeWarning: Columns (3,4,5,6,7,8,9) have mixed types. Specify dtype option on import or set low_memory=False.\n",
      "  cell_level_data = pd.read_csv(\"cell_level_data.csv\")\n"
     ]
    }
   ],
   "source": [
    "\n",
    "energy_consumption = pd.read_csv(\"energy_consumption.csv\")\n",
    "base_station_basic_info = pd.read_csv(\"./base_station_basic_info.csv\")\n",
    "cell_level_data = pd.read_csv(\"cell_level_data.csv\")"
   ]
  },
  {
   "cell_type": "code",
   "execution_count": 9,
   "metadata": {},
   "outputs": [
    {
     "data": {
      "text/html": [
       "<div>\n",
       "<style scoped>\n",
       "    .dataframe tbody tr th:only-of-type {\n",
       "        vertical-align: middle;\n",
       "    }\n",
       "\n",
       "    .dataframe tbody tr th {\n",
       "        vertical-align: top;\n",
       "    }\n",
       "\n",
       "    .dataframe thead th {\n",
       "        text-align: right;\n",
       "    }\n",
       "</style>\n",
       "<table border=\"1\" class=\"dataframe\">\n",
       "  <thead>\n",
       "    <tr style=\"text-align: right;\">\n",
       "      <th></th>\n",
       "      <th>Time</th>\n",
       "      <th>BS</th>\n",
       "      <th>Energy</th>\n",
       "    </tr>\n",
       "  </thead>\n",
       "  <tbody>\n",
       "    <tr>\n",
       "      <th>0</th>\n",
       "      <td>1/1/2023 1:00</td>\n",
       "      <td>B_0</td>\n",
       "      <td>64.27503737</td>\n",
       "    </tr>\n",
       "    <tr>\n",
       "      <th>1</th>\n",
       "      <td>1/1/2023 2:00</td>\n",
       "      <td>B_0</td>\n",
       "      <td>55.90433483</td>\n",
       "    </tr>\n",
       "    <tr>\n",
       "      <th>2</th>\n",
       "      <td>1/1/2023 3:00</td>\n",
       "      <td>B_0</td>\n",
       "      <td>57.6980568</td>\n",
       "    </tr>\n",
       "    <tr>\n",
       "      <th>3</th>\n",
       "      <td>1/1/2023 4:00</td>\n",
       "      <td>B_0</td>\n",
       "      <td>55.15695067</td>\n",
       "    </tr>\n",
       "    <tr>\n",
       "      <th>4</th>\n",
       "      <td>1/1/2023 5:00</td>\n",
       "      <td>B_0</td>\n",
       "      <td>56.05381166</td>\n",
       "    </tr>\n",
       "  </tbody>\n",
       "</table>\n",
       "</div>"
      ],
      "text/plain": [
       "            Time   BS       Energy\n",
       "0  1/1/2023 1:00  B_0  64.27503737\n",
       "1  1/1/2023 2:00  B_0  55.90433483\n",
       "2  1/1/2023 3:00  B_0   57.6980568\n",
       "3  1/1/2023 4:00  B_0  55.15695067\n",
       "4  1/1/2023 5:00  B_0  56.05381166"
      ]
     },
     "execution_count": 9,
     "metadata": {},
     "output_type": "execute_result"
    }
   ],
   "source": [
    "energy_consumption.head()"
   ]
  }
 ],
 "metadata": {
  "kernelspec": {
   "display_name": "zindi-5g-energy-consumption-vq-XQ_S3",
   "language": "python",
   "name": "python3"
  },
  "language_info": {
   "codemirror_mode": {
    "name": "ipython",
    "version": 3
   },
   "file_extension": ".py",
   "mimetype": "text/x-python",
   "name": "python",
   "nbconvert_exporter": "python",
   "pygments_lexer": "ipython3",
   "version": "3.11.5"
  }
 },
 "nbformat": 4,
 "nbformat_minor": 2
}
